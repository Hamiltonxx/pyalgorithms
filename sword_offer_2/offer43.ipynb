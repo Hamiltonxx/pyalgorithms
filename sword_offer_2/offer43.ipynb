{
 "cells": [
  {
   "attachments": {},
   "cell_type": "markdown",
   "metadata": {},
   "source": [
    "n是1位\n",
    "n是2位: 则1位的补0\n",
    "n是3位: 则1位的补两0,2位的补一0\n",
    "...\n",
    "前面补了多少0,则n加多少"
   ]
  },
  {
   "cell_type": "code",
   "execution_count": null,
   "metadata": {},
   "outputs": [],
   "source": [
    "def findNthDigit(n):\n",
    "    i=1\n",
    "    while i * 10**i < n:\n",
    "        n += 10 ** i \n",
    "        i += 1\n",
    "    return int(str(n//i)[n%i])\n",
    "    "
   ]
  }
 ],
 "metadata": {
  "language_info": {
   "name": "python"
  },
  "orig_nbformat": 4
 },
 "nbformat": 4,
 "nbformat_minor": 2
}
